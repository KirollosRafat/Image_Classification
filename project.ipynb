{
 "cells": [
  {
   "cell_type": "markdown",
   "id": "b8736b04",
   "metadata": {},
   "source": [
    "# Multi-class Image Classification "
   ]
  },
  {
   "cell_type": "markdown",
   "id": "b7dc2cea",
   "metadata": {},
   "source": [
    "-- Dependciens"
   ]
  },
  {
   "cell_type": "code",
   "execution_count": 49,
   "id": "81e51227",
   "metadata": {},
   "outputs": [],
   "source": [
    "import torch\n",
    "import torch.nn as nn\n",
    "from torchmetrics import Accuracy\n",
    "from torchvision import models\n",
    "from torchvision import datasets, transforms\n",
    "from torch.utils.data import DataLoader, random_split\n",
    "import torch.optim as optim"
   ]
  },
  {
   "cell_type": "markdown",
   "id": "48a3d11c",
   "metadata": {},
   "source": [
    "\n",
    "- Apply Transforms on the dataset (processsing setp).\n",
    "- We can add data augementation like rotation and flipping but i'll keep it simple."
   ]
  },
  {
   "cell_type": "code",
   "execution_count": 50,
   "id": "aef7c0dc",
   "metadata": {},
   "outputs": [],
   "source": [
    "# transforms\n",
    "transform = transforms.Compose([\n",
    "    transforms.Resize((128, 128)),\n",
    "    transforms.ToTensor(),\n",
    "    transforms.Normalize([0.485, 0.456, 0.406],\n",
    "                         [0.229, 0.224, 0.225])\n",
    "])\n",
    "\n",
    "# load full dataset\n",
    "dataset = datasets.ImageFolder(\"data\", transform=transform)"
   ]
  },
  {
   "cell_type": "markdown",
   "id": "7938037b",
   "metadata": {},
   "source": [
    "- split into train (80%) and val (20%)\n",
    "- we got 3000 images 1000 each e.g.(1000 cat,1000 dog , 1000 snake)\n",
    "- simply (3000 * 0.8) and (3000 * 0.2)"
   ]
  },
  {
   "cell_type": "code",
   "execution_count": 51,
   "id": "b99e3f66",
   "metadata": {},
   "outputs": [],
   "source": [
    "train_dataset, val_dataset = random_split(dataset, [2400, 600]) "
   ]
  },
  {
   "cell_type": "code",
   "execution_count": 52,
   "id": "25a11edb",
   "metadata": {},
   "outputs": [
    {
     "name": "stdout",
     "output_type": "stream",
     "text": [
      "torch.Size([32, 3, 128, 128]) torch.Size([32])\n"
     ]
    }
   ],
   "source": [
    "train_loader = DataLoader(train_dataset, batch_size=32, shuffle=True)\n",
    "val_loader = DataLoader(val_dataset, batch_size=32)\n",
    "\n",
    "# test by grabbing one batch\n",
    "images, labels = next(iter(train_loader))\n",
    "print(images.shape, labels.shape)"
   ]
  },
  {
   "cell_type": "code",
   "execution_count": 53,
   "id": "5cc9ffd3",
   "metadata": {},
   "outputs": [],
   "source": [
    "\n",
    "# Load pretrained ResNet18\n",
    "model = models.resnet18(weights=\"IMAGENET1K_V1\")\n",
    "\n",
    "# Replace the final fully connected layer\n",
    "num_ftrs = model.fc.in_features\n",
    "model.fc = nn.Linear(num_ftrs, 3)  # 3 classes (dogs, cats, snakes)"
   ]
  },
  {
   "cell_type": "code",
   "execution_count": 54,
   "id": "67bbecec",
   "metadata": {},
   "outputs": [
    {
     "name": "stdout",
     "output_type": "stream",
     "text": [
      "Epoch [1/5], Loss: 0.4571\n",
      "Epoch [2/5], Loss: 0.2224\n",
      "Epoch [3/5], Loss: 0.1479\n",
      "Epoch [4/5], Loss: 0.0977\n",
      "Epoch [5/5], Loss: 0.1039\n"
     ]
    }
   ],
   "source": [
    "\n",
    "criterion = nn.CrossEntropyLoss()               # for classification\n",
    "optimizer = optim.Adam(model.parameters(), lr=0.001)\n",
    "\n",
    "num_epochs = 5  \n",
    "\n",
    "for epoch in range(num_epochs):\n",
    "    model.train()  # set to training mode\n",
    "    total_loss = 0.0\n",
    "\n",
    "    for inputs, labels in train_loader:\n",
    "        # reset gradients\n",
    "        optimizer.zero_grad()\n",
    "\n",
    "        # forward pass\n",
    "        outputs = model(inputs)\n",
    "        loss = criterion(outputs, labels)\n",
    "\n",
    "        # backward pass + update\n",
    "        loss.backward()\n",
    "        optimizer.step()\n",
    "\n",
    "        total_loss += loss.item()\n",
    "\n",
    "    # average loss per epoch\n",
    "    epoch_loss = total_loss / len(train_loader)\n",
    "    print(f\"Epoch [{epoch+1}/{num_epochs}], Loss: {epoch_loss:.4f}\")\n"
   ]
  },
  {
   "cell_type": "markdown",
   "id": "371b97c0",
   "metadata": {},
   "source": [
    "- As number of epochs increases we tend to improve (decrease) loss\n",
    "- Now we have trained the model let's go for valdiation "
   ]
  },
  {
   "cell_type": "code",
   "execution_count": null,
   "id": "f3752649",
   "metadata": {},
   "outputs": [
    {
     "name": "stdout",
     "output_type": "stream",
     "text": [
      "Epoch [1/10] Train Loss: 0.1331 Val Acc: 90.17%\n",
      "Epoch [2/10] Train Loss: 0.0910 Val Acc: 84.00%\n",
      "Epoch [3/10] Train Loss: 0.0509 Val Acc: 87.50%\n",
      "Epoch [4/10] Train Loss: 0.0920 Val Acc: 82.67%\n",
      "Epoch [5/10] Train Loss: 0.0976 Val Acc: 92.50%\n",
      "Epoch [6/10] Train Loss: 0.0230 Val Acc: 94.17%\n",
      "Epoch [7/10] Train Loss: 0.0344 Val Acc: 88.83%\n",
      "Epoch [8/10] Train Loss: 0.0771 Val Acc: 88.83%\n",
      "Epoch [9/10] Train Loss: 0.0999 Val Acc: 93.83%\n",
      "Epoch [10/10] Train Loss: 0.0141 Val Acc: 94.17%\n"
     ]
    }
   ],
   "source": [
    "# --- 5. Training loop with best model saving ---\n",
    "num_epochs = 10\n",
    "best_acc = 0.0\n",
    "val_accuracy = Accuracy(task='multiclass',num_classes=3)\n",
    "for epoch in range(num_epochs):\n",
    "    # Training\n",
    "    model.train()\n",
    "    running_loss = 0.0\n",
    "\n",
    "    for inputs, labels in train_loader:\n",
    "\n",
    "        optimizer.zero_grad()\n",
    "        outputs = model(inputs)\n",
    "        loss = criterion(outputs, labels)\n",
    "\n",
    "        loss.backward()\n",
    "        optimizer.step()\n",
    "\n",
    "        running_loss += loss.item()\n",
    "\n",
    "    epoch_loss = running_loss / len(train_loader)\n",
    "\n",
    "    # Validation\n",
    "    model.eval()\n",
    "    val_accuracy.reset()\n",
    "    with torch.no_grad():\n",
    "        for inputs, labels in val_loader:\n",
    "            outputs = model(inputs)\n",
    "            val_accuracy.update(outputs, labels)\n",
    "\n",
    "    val_acc = val_accuracy.compute().item() * 100\n",
    "\n",
    "    print(f\"Epoch [{epoch+1}/{num_epochs}] \"\n",
    "          f\"Train Loss: {epoch_loss:.4f} \"\n",
    "          f\"Val Acc: {val_acc:.2f}%\")\n",
    "\n",
    "    # Save best model\n",
    "    if val_acc > best_acc:\n",
    "        best_acc = val_acc\n",
    "        torch.save(model.state_dict(), \"best_model.pth\") # save the model within' best validation score"
   ]
  },
  {
   "cell_type": "markdown",
   "id": "8cf09d33",
   "metadata": {},
   "source": [
    "- Now we have finished the training and validation.\n",
    "- The next step would be to put the model under test to see if it can recoginse new images or not\n",
    "- We uploaded three test cases from the internet to test it on the model (That would be on a sperate juypter notebook called 'test')"
   ]
  }
 ],
 "metadata": {
  "kernelspec": {
   "display_name": "Python 3",
   "language": "python",
   "name": "python3"
  },
  "language_info": {
   "codemirror_mode": {
    "name": "ipython",
    "version": 3
   },
   "file_extension": ".py",
   "mimetype": "text/x-python",
   "name": "python",
   "nbconvert_exporter": "python",
   "pygments_lexer": "ipython3",
   "version": "3.11.9"
  }
 },
 "nbformat": 4,
 "nbformat_minor": 5
}
